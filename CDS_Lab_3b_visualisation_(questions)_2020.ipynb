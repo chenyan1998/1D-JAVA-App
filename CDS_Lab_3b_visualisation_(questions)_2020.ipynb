{
  "nbformat": 4,
  "nbformat_minor": 0,
  "metadata": {
    "kernelspec": {
      "display_name": "Python 3",
      "language": "python",
      "name": "python3"
    },
    "language_info": {
      "codemirror_mode": {
        "name": "ipython",
        "version": 3
      },
      "file_extension": ".py",
      "mimetype": "text/x-python",
      "name": "python",
      "nbconvert_exporter": "python",
      "pygments_lexer": "ipython3",
      "version": "3.6.1"
    },
    "colab": {
      "name": "CDS Lab 3b - visualisation (questions) 2020",
      "provenance": [],
      "collapsed_sections": [],
      "include_colab_link": true
    }
  },
  "cells": [
    {
      "cell_type": "markdown",
      "metadata": {
        "id": "view-in-github",
        "colab_type": "text"
      },
      "source": [
        "<a href=\"https://colab.research.google.com/github/chenyan1998/1D-JAVA-App/blob/master/CDS_Lab_3b_visualisation_(questions)_2020.ipynb\" target=\"_parent\"><img src=\"https://colab.research.google.com/assets/colab-badge.svg\" alt=\"Open In Colab\"/></a>"
      ]
    },
    {
      "cell_type": "markdown",
      "metadata": {
        "id": "zq4r8MMhS44U"
      },
      "source": [
        "# Data visualisation in Python\n",
        "\n",
        "__Prof. Dorien Herremans__\n",
        "\n",
        "\n",
        "**Open the tutorial in 'File -> Playground mode'. Go through the tutorial first. You will find several `#TODO` slots for you to address. They should be easy if you read through in detail. There are a number of open questions for you to solve as well. **\n",
        "\n",
        "\n",
        "For a full overview of types of plots using matplotlib, see the gallery [at https://matplotlib.org/2.0.2/gallery.html](https://matplotlib.org/2.0.2/gallery.html)\n",
        "\n",
        "\n"
      ]
    },
    {
      "cell_type": "markdown",
      "metadata": {
        "id": "2V7gseBRS44V"
      },
      "source": [
        "## Scatterplots\n",
        "\n",
        "We will be using scottish_hills.csv from [https://github.com/ourcodingclub/CC-python-pandas-matplotlib](https://github.com/ourcodingclub/CC-python-pandas-matplotlib). The file contains all the mountains above 3000 feet (about 914 metres) in Scotland. \n",
        "\n",
        "We can read this into a variable and see the first 10 lines. \n",
        "\n",
        "Use the dataframe.head(10) command along with print to have a look into the file. "
      ]
    },
    {
      "cell_type": "code",
      "metadata": {
        "id": "yXZDlXpzS44W"
      },
      "source": [
        "import pandas as pd\n",
        "\n",
        "dataframe = pd.read_csv(\"https://raw.githubusercontent.com/ourcodingclub/CC-python-pandas-matplotlib/master/scottish_hills.csv\")\n",
        "\n",
        "\n",
        "# TODO print out first 10 lines of the file"
      ],
      "execution_count": null,
      "outputs": []
    },
    {
      "cell_type": "markdown",
      "metadata": {
        "id": "4-MAwiuFS44Y"
      },
      "source": [
        "As explored last week, pandas dataframes can be used for some preliminary data exploration. For instance, let's sort the hills by height: "
      ]
    },
    {
      "cell_type": "code",
      "metadata": {
        "id": "s3eR1VclS44Z"
      },
      "source": [
        "sorted_hills = dataframe.sort_values(by=['Height'], ascending=False)\n",
        "\n",
        "# Let's have a look at the top 5 to check\n",
        "print(sorted_hills.head(5))"
      ],
      "execution_count": null,
      "outputs": []
    },
    {
      "cell_type": "markdown",
      "metadata": {
        "id": "i7gkNmP7S44b"
      },
      "source": [
        "Now let's load matplotlib. Note: if you are using a jupyter notebook you need the inline statement on line 1 below: "
      ]
    },
    {
      "cell_type": "code",
      "metadata": {
        "id": "n_-MtZ7sS44b"
      },
      "source": [
        "%matplotlib inline\n",
        "import matplotlib.pyplot as plt"
      ],
      "execution_count": null,
      "outputs": []
    },
    {
      "cell_type": "markdown",
      "metadata": {
        "id": "gSVjNQtQS44d"
      },
      "source": [
        "To save us some time, let's create some shortcut variables, x and y, to register the hight and latitude coordinates of each of the hills. "
      ]
    },
    {
      "cell_type": "code",
      "metadata": {
        "id": "4dcyPW5eS44d"
      },
      "source": [
        "x = dataframe.Height\n",
        "y = dataframe.Latitude\n",
        "z = dataframe.Longitude"
      ],
      "execution_count": null,
      "outputs": []
    },
    {
      "cell_type": "markdown",
      "metadata": {
        "id": "HdkYHuO3S44f"
      },
      "source": [
        "Now we are ready to start visualising them. Let's create (and save) a scatterplot. You can use the ` plt.scatter()` command with argument the height and latitude. "
      ]
    },
    {
      "cell_type": "code",
      "metadata": {
        "id": "KepQa0KSS44f"
      },
      "source": [
        "# TODO: create the scatterplot\n",
        "\n",
        "plt.savefig(\"scottish_scatter_plot.png\")"
      ],
      "execution_count": null,
      "outputs": []
    },
    {
      "cell_type": "markdown",
      "metadata": {
        "id": "icyOUzj_S44h"
      },
      "source": [
        "If you are not using iPython, you can use `plt.show()` to display the plot. \n",
        "\n",
        "Now let's build upon this graph by adding a linear regression line to it using the `linregress()` command and the same input variables as for scatterplot. "
      ]
    },
    {
      "cell_type": "code",
      "metadata": {
        "id": "2nXdYo48S44h"
      },
      "source": [
        "from scipy.stats import linregress\n",
        "stats = # TODO calculate linear regression \n",
        "\n",
        "m = stats.slope\n",
        "b = stats.intercept"
      ],
      "execution_count": null,
      "outputs": []
    },
    {
      "cell_type": "markdown",
      "metadata": {
        "id": "NS4AvPXlS44j"
      },
      "source": [
        "Now we can add the plot of our linear regression by using the equation of a straight line. \n",
        "\n",
        "Add the equation of the linear regression based on the variables and slope/intercept calculated:"
      ]
    },
    {
      "cell_type": "code",
      "metadata": {
        "id": "6qttcVZKS44k"
      },
      "source": [
        "plt.scatter(x, y)\n",
        "plt.plot(x, #TODO Add equation of the line, color=\"red\")  # The equation of the straight line."
      ],
      "execution_count": null,
      "outputs": []
    },
    {
      "cell_type": "markdown",
      "metadata": {
        "id": "CkpbrwetS44l"
      },
      "source": [
        "Note, wether this line is statistically significant can be determined using the extra information in the stats object - `stats.rvalue` and `stats.pvalue`."
      ]
    },
    {
      "cell_type": "markdown",
      "metadata": {
        "id": "Z3mSmLydS44m"
      },
      "source": [
        "Now you can make your plot look nicer using arguments such as as fontsize, linewidth, color,..."
      ]
    },
    {
      "cell_type": "code",
      "metadata": {
        "id": "JLOJmvpES44m"
      },
      "source": [
        "# Change the default figure size\n",
        "plt.figure(figsize=(10,10))\n",
        "\n",
        "# Change the default marker for the scatter from circles to x's\n",
        "plt.scatter(x, y, marker='x')\n",
        "\n",
        "# Set the linewidth on the regression line to 3px\n",
        "plt.plot( #TODO add the original arguments + an option for linewidth. \n",
        "\n",
        "# Add x and y lables, and set their font size\n",
        "plt.xlabel(\"Height (m)\", fontsize=20)\n",
        "plt.ylabel(\"Latitude\", fontsize=20)\n",
        "\n",
        "# Set the font size of the number lables on the axes\n",
        "plt.xticks(fontsize=18)\n",
        "plt.yticks(fontsize=18)"
      ],
      "execution_count": null,
      "outputs": []
    },
    {
      "cell_type": "markdown",
      "metadata": {
        "id": "zlMhqd7pS44o"
      },
      "source": [
        "Let's have a look at how the hills our spread out geographically using latitude (y) and longitude (z). Now we can use s = x to say that the size needs to be equal to the height (x). (I added -900 to make the difference between big and small mountains larger)"
      ]
    },
    {
      "cell_type": "code",
      "metadata": {
        "id": "iXNYJIq9S44o"
      },
      "source": [
        "import numpy as np \n",
        "\n",
        "colors = np.random.rand(len(y))  #generates a different color for each different mountain\n",
        "\n",
        "plt.scatter(y, z, s = (x-900), c=colors, alpha=0.5)"
      ],
      "execution_count": null,
      "outputs": []
    },
    {
      "cell_type": "markdown",
      "metadata": {
        "id": "Lq1SXkj3S44q"
      },
      "source": [
        "## Histograms"
      ]
    },
    {
      "cell_type": "markdown",
      "metadata": {
        "id": "BUPtzt_BS44q"
      },
      "source": [
        "Let's try some other graphs. A full selection is given at the [matplotlib website](https://matplotlib.org/2.0.2/examples/index.html). \n",
        "\n",
        "Let's start by looking at the distribution of our hills over the latitude (variable `y` from earlier): "
      ]
    },
    {
      "cell_type": "code",
      "metadata": {
        "id": "6vHvI8lJS44r",
        "outputId": "c9777ac3-56b2-429a-e2a8-361e1b9ec2fa",
        "colab": {
          "base_uri": "https://localhost:8080/",
          "height": 265
        }
      },
      "source": [
        "plt.hist(x, bins=25) #bins separates the latitude in 25 discrete categories. \n",
        "\n",
        "plt.savefig(\"histogram.png\", dpi=25)  # results in 160x120 px image"
      ],
      "execution_count": 63,
      "outputs": [
        {
          "output_type": "display_data",
          "data": {
            "image/png": "[encoded data removed]",
            "text/plain": [
              "<Figure size 432x288 with 1 Axes>"
            ]
          },
          "metadata": {
            "tags": [],
            "needs_background": "light"
          }
        }
      ]
    },
    {
      "cell_type": "markdown",
      "metadata": {
        "id": "IqqDEaPAS44t"
      },
      "source": [
        "Quickly style your plot with stylesheets, full overview [at https://matplotlib.org/gallery/style_sheets/style_sheets_reference.html](https://matplotlib.org/gallery/style_sheets/style_sheets_reference.html). \n",
        "\n",
        "Let's also create a new variable that contains the height of the hills -100m. This to illustrate how to add a second distribution to your graph. In this case, we will make them slightly transparent. \n",
        "\n",
        "Add a style to the graph using `plt.style.use()`"
      ]
    },
    {
      "cell_type": "code",
      "metadata": {
        "id": "Hmzs-FN5S44t",
        "outputId": "556d1ffe-ad5c-4c4c-8af3-bd2520cede00",
        "colab": {
          "base_uri": "https://localhost:8080/",
          "height": 296
        }
      },
      "source": [
        "import numpy as np\n",
        "\n",
        "# using a stylesheet:\n",
        "# TODO add the style seaborn-pastel\n",
        "\n",
        "plt.style.use('seaborn-pastel')\n",
        "\n",
        "#creating the new height variable: \n",
        "shifted_x = x - 100\n",
        "\n",
        "fig, ax = plt.subplots() # lets us acces the axis and plot seperately. \n",
        "ax.hist(x, bins=25,histtype=\"stepfilled\", alpha=0.8,label='Height')\n",
        "ax.hist(shifted_x, bins=25, histtype=\"stepfilled\", alpha=0.8,label='Height - 100') \n",
        "ax.legend(prop={'size': 10})\n",
        "\n",
        "ax.set_ylabel('Distribution')\n",
        "ax.set_xlabel('Height')"
      ],
      "execution_count": 67,
      "outputs": [
        {
          "output_type": "execute_result",
          "data": {
            "text/plain": [
              "Text(0.5, 0, 'Height')"
            ]
          },
          "metadata": {
            "tags": []
          },
          "execution_count": 67
        },
        {
          "output_type": "display_data",
          "data": {
            "image/png": "[encoded data removed]",
            "text/plain": [
              "<Figure size 432x288 with 1 Axes>"
            ]
          },
          "metadata": {
            "tags": [],
            "needs_background": "light"
          }
        }
      ]
    },
    {
      "cell_type": "markdown",
      "metadata": {
        "id": "4O7oih3vS44w"
      },
      "source": [
        "## Bar charts\n",
        "\n",
        "Plot the average $CO_2$ output of both vegetarians and meat eaters for different continents in a bar plot. The data is given below.\n",
        "\n",
        "Add a legend to the ax using the `legend()` function and set an index value for the rects2 plot. "
      ]
    },
    {
      "cell_type": "code",
      "metadata": {
        "id": "m925z9u1S44w"
      },
      "source": [
        "labels = ['EU', 'US', 'AS']\n",
        "\n",
        "meateaters = [122, 135, 80]\n",
        "vegetarians = [40, 43, 23]\n",
        "\n",
        "\n",
        "# Keep a numeric index for the x-axis lables. This will be the positions of the ticks. \n",
        "index = np.arange(len(labels))\n",
        "\n",
        "\n",
        "fig, ax = plt.subplots()\n",
        "\n",
        "# Toy with the below parameters to change the appearance of your graph:\n",
        "bar_width = 0.35\n",
        "opacity = 0.6\n",
        "\n",
        "rects1 = ax.bar(index, meateaters, bar_width,\n",
        "                alpha=opacity, color='b',\n",
        "                label='Meat eaters')\n",
        "\n",
        "# Note, shift the x postion also with the bar width so that the bar appears next to the previous one±\n",
        "rects2 = ax.bar(#TODO set an index which is shifted by the bar_width so that it's not entirely overlapping\n",
        "                vegetarians, bar_width,\n",
        "                alpha=opacity, color='r',\n",
        "                label='Vegetarians')\n",
        "\n",
        "\n",
        "ax.set_xlabel('Continent')\n",
        "ax.set_ylabel('CO2 emissions')\n",
        "ax.set_title('CO2 emissions per continent, per diet')\n",
        "\n",
        "ax.set_xticks(index + bar_width / 2)\n",
        "\n",
        "ax.set_xticklabels(labels)\n",
        "\n",
        "#TODO add legend\n"
      ],
      "execution_count": null,
      "outputs": []
    },
    {
      "cell_type": "markdown",
      "metadata": {
        "id": "DWA9_kjOS44y"
      },
      "source": [
        "## Line plots \n",
        "\n",
        "Let's move on to another type of graph: a simple line plot, but using two vertical axis. \n",
        "\n",
        "We will create a function to calculate the temperature in celcius given Fahrenheit. Add the function to calculate Calcius from the Fahrenheit `temp`."
      ]
    },
    {
      "cell_type": "code",
      "metadata": {
        "id": "NYh_O6NrS44y"
      },
      "source": [
        "def fahrenheit2celsius(temp):\n",
        "    \"\"\"\n",
        "    Returns temperature in Celsius.\n",
        "    \"\"\"\n",
        "    return #TODO return the formula for getting Celcius from Fahrenheit\n",
        "\n",
        "\n",
        "# TEMPURATURE AT EACH HOUR THROUGHOUT THE DAY (In Fahrenheit)\n",
        "temperature = [100, 102, 106, 105, 90, 85, 85, 89, 100, 102, 103, 108, 100, 102, 106, 105, 90, 85, 85, 89, 100, 102, 103, 108]\n",
        "\n"
      ],
      "execution_count": null,
      "outputs": []
    },
    {
      "cell_type": "markdown",
      "metadata": {
        "id": "LxHNDZx7S440"
      },
      "source": [
        "We will use `twinx` to get a second set of axes. This allows us to plot the temperature evolution throughout the day using both C and F. "
      ]
    },
    {
      "cell_type": "code",
      "metadata": {
        "id": "YX0SB7DxS440"
      },
      "source": [
        "fig, ax_f = plt.subplots()\n",
        "ax_c = ax_f.twinx()\n",
        "\n",
        "#plot our data: \n",
        "ax_f.plot(temperature)\n",
        "ax_f.set_xlim(0, 24) #x-axis shows 24 hours\n",
        "\n",
        "# set the axis limits: \n",
        "y1, y2 = ax_f.get_ylim()\n",
        "ax_c.set_ylim(fahrenheit2celsius(y1), fahrenheit2celsius(y2))\n",
        "ax_c.figure.canvas.draw()\n",
        "\n",
        "# change some axis labels\n",
        "ax_f.set_title('Two scales: Fahrenheit and Celsius')\n",
        "ax_f.set_ylabel('Fahrenheit')\n",
        "ax_c.set_ylabel('Celsius')\n",
        "ax_f.set_xlabel('Time (hour of day)')\n"
      ],
      "execution_count": null,
      "outputs": []
    },
    {
      "cell_type": "markdown",
      "metadata": {
        "id": "prXvfbE3S442"
      },
      "source": [
        "Suppose we have a sinusoidal plot (formula line 2 below), and we want to fill it. First let's plot the sinusoid. "
      ]
    },
    {
      "cell_type": "code",
      "metadata": {
        "id": "HxlfiVFCS443"
      },
      "source": [
        "newx = np.linspace(0, 1, 500) # sample 500 X's linearly between 0 and 1\n",
        "newy = np.sin(4 * np.pi * newx) * np.exp(-5 * newx) #formula for our sinusoidal graph \n",
        "\n",
        "fig, ax = plt.subplots()  #plt.subplots()  lets us acces the axis and plot seperately. \n",
        "\n",
        "ax.plot(newx, newy)"
      ],
      "execution_count": null,
      "outputs": []
    },
    {
      "cell_type": "markdown",
      "metadata": {
        "id": "s4t_a-WCS445"
      },
      "source": [
        "Then we can easily use the `fill()` command of ax to 'fill' the axes with the newly sampled data. "
      ]
    },
    {
      "cell_type": "code",
      "metadata": {
        "id": "YiZMPhPeS447"
      },
      "source": [
        "fig, ax = plt.subplots() \n",
        "\n",
        "#TODO fill the plot with the newly sampled data newx and newy\n"
      ],
      "execution_count": null,
      "outputs": []
    },
    {
      "cell_type": "markdown",
      "metadata": {
        "id": "1pRkM19bS449"
      },
      "source": [
        "Axis labels can influence how we perceive the data. Let's have a look at this stock data, which has been stagnating recently. "
      ]
    },
    {
      "cell_type": "code",
      "metadata": {
        "scrolled": true,
        "id": "vg4Cn0uxS44-"
      },
      "source": [
        "# growth of stock A\n",
        "stockA = [0, 10, 20, 30, 40, 60, 80, 140]\n",
        "\n",
        "plt.plot(stockA)\n",
        "# plt.ylim(bottom=0, top = 110) \n",
        "plt.xlabel('Time')\n",
        "plt.ylabel('Stock A price')"
      ],
      "execution_count": null,
      "outputs": []
    },
    {
      "cell_type": "markdown",
      "metadata": {
        "id": "H2PV7IQSS45A"
      },
      "source": [
        "Now let's change to a logaritmic axis. Other options here are `linear, log, logit, symlog`. Give it a try."
      ]
    },
    {
      "cell_type": "markdown",
      "metadata": {
        "id": "DLk1wgIXS45A"
      },
      "source": [
        "\n",
        "\n",
        "```\n",
        "fig = plt.figure()\n",
        "ax = fig.add_subplot(1, 1, 1)\n",
        "\n",
        "line, = ax.plot(stockA)\n",
        "ax.set_yscale('log') #change the scale here\n",
        "\n",
        "plt.xlabel('Time')\n",
        "plt.ylabel('Stock A price')\n",
        "ax.set_title('Logarithmic')\n",
        "```\n",
        "\n"
      ]
    },
    {
      "cell_type": "code",
      "metadata": {
        "id": "YZ0jbLsRfOqA"
      },
      "source": [
        "# TODO try different axes scales"
      ],
      "execution_count": null,
      "outputs": []
    },
    {
      "cell_type": "markdown",
      "metadata": {
        "id": "ukeMg_1SS45B"
      },
      "source": [
        "This illustrates how axes can deform the data... "
      ]
    },
    {
      "cell_type": "markdown",
      "metadata": {
        "id": "9hLt2Gg_S45B"
      },
      "source": [
        "### Boxplots\n",
        "\n",
        "For all the mountains, let's see what their average height is, with standard deviation in a boxplot. \n",
        "\n"
      ]
    },
    {
      "cell_type": "code",
      "metadata": {
        "id": "9zDS9ko9S45C"
      },
      "source": [
        "plt.boxplot(x)"
      ],
      "execution_count": null,
      "outputs": []
    },
    {
      "cell_type": "markdown",
      "metadata": {
        "id": "hQDE8qc7S45D"
      },
      "source": [
        "Easy enough. Now we can make this slightly nicer: "
      ]
    },
    {
      "cell_type": "code",
      "metadata": {
        "id": "BN26f_KDS45E"
      },
      "source": [
        "# notched plot\n",
        "plt.figure()\n",
        "plt.boxplot(x, 1)\n",
        "\n",
        "# change outlier point symbols\n",
        "plt.figure()\n",
        "plt.boxplot(x, 0, 'gD')\n",
        "\n",
        "# don't show outlier points\n",
        "plt.figure()\n",
        "plt.boxplot(x, 0, '')\n",
        "\n",
        "# horizontal boxes\n",
        "plt.figure()\n",
        "plt.boxplot(x, 0, 'rs', 0)\n",
        "\n",
        "# change whisker length\n",
        "plt.figure()\n",
        "plt.boxplot(x, 0, 'rs', 0, 0.75)"
      ],
      "execution_count": null,
      "outputs": []
    },
    {
      "cell_type": "markdown",
      "metadata": {
        "id": "J7L83NZaS45F"
      },
      "source": [
        "# Now to try yourself (Exercises): \n",
        "\n",
        "Load the dataset from `https://raw.githubusercontent.com/plotly/datasets/master/school_earnings.csv`, and have a look at what it contains. \n",
        "\n",
        "Then create the following: \n",
        "\n",
        "1. A __histogram__ of the salaries for women.\n",
        "2. Add the men's salaries to this histogram.\n",
        "3. Give your histogram a dark background and label the axes.\n",
        "4. Next, please label the colors of the histogram so we know who is what (men vs women). \n",
        "5. Instead of a histogram, create a __bar chart__ that lists the salary for women (y-axis) for each school. \n",
        "6. Also add men to this bar chart. \n",
        "7. Make the style nice and add labels.\n",
        "8. Now create a nice __boxplot__ of the data, one for men, one for women (two box's same graph). "
      ]
    },
    {
      "cell_type": "markdown",
      "metadata": {
        "id": "jg_wiIoKS45F"
      },
      "source": [
        "## Solution: histogram"
      ]
    },
    {
      "cell_type": "code",
      "metadata": {
        "id": "NkUupDYhS45G"
      },
      "source": [
        ""
      ],
      "execution_count": null,
      "outputs": []
    },
    {
      "cell_type": "code",
      "metadata": {
        "id": "1V1OsxtmS45H"
      },
      "source": [
        ""
      ],
      "execution_count": null,
      "outputs": []
    },
    {
      "cell_type": "markdown",
      "metadata": {
        "collapsed": true,
        "id": "x8zKQJSwS45I"
      },
      "source": [
        "## Solution: Bar chart"
      ]
    },
    {
      "cell_type": "code",
      "metadata": {
        "id": "HxMi69CNS45I"
      },
      "source": [
        ""
      ],
      "execution_count": null,
      "outputs": []
    },
    {
      "cell_type": "markdown",
      "metadata": {
        "id": "RwL_fFIDS45L"
      },
      "source": [
        "## Solution: Boxplot"
      ]
    },
    {
      "cell_type": "code",
      "metadata": {
        "id": "TzRx_wzAS45L"
      },
      "source": [
        ""
      ],
      "execution_count": null,
      "outputs": []
    },
    {
      "cell_type": "markdown",
      "metadata": {
        "collapsed": true,
        "id": "Pt2p4wCmS45M"
      },
      "source": [
        "Well done!"
      ]
    },
    {
      "cell_type": "code",
      "metadata": {
        "id": "snu1Hy_BS45N"
      },
      "source": [
        ""
      ],
      "execution_count": null,
      "outputs": []
    },
    {
      "cell_type": "markdown",
      "metadata": {
        "id": "e0eIA6p0KEfd"
      },
      "source": [
        "## Interactive fun\n",
        "\n",
        "There are a lot of libraries available to make plots more dynamic, for instance: https://mode.com/blog/python-interactive-plot-libraries/\n",
        "\n",
        "Let's experiment a bit with Ploly: https://plotly.com/python/"
      ]
    },
    {
      "cell_type": "code",
      "metadata": {
        "id": "DYvWIdAQKJJ9",
        "outputId": "65bfc1c6-b8e5-484d-f174-3be98aa785fe",
        "colab": {
          "base_uri": "https://localhost:8080/",
          "height": 417
        }
      },
      "source": [
        "import plotly.graph_objects as go\n",
        "import pandas as pd\n",
        "\n",
        "# Read data from a csv\n",
        "z_data = pd.read_csv('https://raw.githubusercontent.com/plotly/datasets/master/api_docs/mt_bruno_elevation.csv')\n",
        "\n",
        "fig = go.Figure(data=go.Surface(z=z_data, showscale=False))\n",
        "fig.update_layout(\n",
        "    title='Mt Bruno Elevation',\n",
        "    width=400, height=400,\n",
        "    margin=dict(t=40, r=0, l=20, b=20)\n",
        ")\n",
        "\n",
        "name = 'default'\n",
        "# Default parameters which are used when `layout.scene.camera` is not provided\n",
        "camera = dict(\n",
        "    up=dict(x=0, y=0, z=1),\n",
        "    center=dict(x=0, y=0, z=0),\n",
        "    eye=dict(x=1.25, y=1.25, z=1.25)\n",
        ")\n",
        "\n",
        "fig.update_layout(scene_camera=camera, title=name)\n",
        "fig.show()"
      ],
      "execution_count": null,
      "outputs": [
        {
          "output_type": "display_data",
          "data": {
            "text/html": [
              "<html>\n",
              "<head><meta charset=\"utf-8\" /></head>\n",
              "<body>\n",
              "    <div>\n",
              "            <script src=\"https://cdnjs.cloudflare.com/ajax/libs/mathjax/2.7.5/MathJax.js?config=TeX-AMS-MML_SVG\"></script><script type=\"text/javascript\">if (window.MathJax) {MathJax.Hub.Config({SVG: {font: \"STIX-Web\"}});}</script>\n",
              "                <script type=\"text/javascript\">window.PlotlyConfig = {MathJaxConfig: 'local'};</script>\n",
              "        <script src=\"https://cdn.plot.ly/plotly-latest.min.js\"></script>    \n",
              "            <div id=\"b347232f-6e33-4490-8143-aef3ba8cd8e2\" class=\"plotly-graph-div\" style=\"height:400px; width:400px;\"></div>\n",
              "            <script type=\"text/javascript\">\n",
              "                \n",
              "                    window.PLOTLYENV=window.PLOTLYENV || {};\n",
              "                    \n",
              "                if (document.getElementById(\"b347232f-6e33-4490-8143-aef3ba8cd8e2\")) {\n",
              "                    Plotly.newPlot(\n",
              "                        'b347232f-6e33-4490-8143-aef3ba8cd8e2',\n",
              "                        [{\"showscale\": false, \"type\": \"surface\", \"z\": [[0.0, 27.80985, 49.61936, 83.08067, 116.6632, 130.414, 150.7206, 220.1871, 156.1536, 148.6416, 203.7845, 206.0386, 107.1618, 68.36975, 45.3359, 49.961420000000004, 21.892789999999998, 17.02552, 11.74317, 14.75226, 13.6671, 5.677561, 3.3123400000000003, 1.156517, -0.147662], [1.0, 27.719659999999998, 48.55022, 65.21374, 95.27665999999999, 116.9964, 133.9056, 152.3412, 151.934, 160.1139, 179.5327, 147.6184, 170.3943, 121.8194, 52.58537, 33.08871, 38.40972, 44.24843, 69.5786, 4.019351, 3.050024, 3.039719, 2.996142, 2.967954, 1.9995939999999999], [2.0, 30.4267, 33.47752, 44.80953, 62.47495, 77.43523, 104.2153, 102.7393, 137.0004, 186.0706, 219.3173, 181.7615, 120.9154, 143.1835, 82.40501, 48.47132, 74.71461, 60.0909, 7.073525, 6.089851, 6.53745, 6.6660960000000005, 7.306964999999999, 5.73684, 3.625628], [3.0, 16.66549, 30.1086, 39.96952, 44.12225, 59.57512, 77.56929000000001, 106.8925, 166.5539, 175.2381, 185.2815, 154.5056, 83.0433, 62.61731999999999, 62.331669999999995, 60.55916, 55.921240000000004, 15.172839999999999, 8.248324, 36.68087, 61.93413, 20.26867, 68.58819, 46.49812, 0.23600949999999998], [4.0, 8.815617, 18.3516, 8.658275, 27.5859, 48.626909999999995, 60.180130000000005, 91.3286, 145.7109, 116.0653, 106.2662, 68.69447, 53.105959999999996, 37.92797, 47.95942, 47.42691, 69.20730999999999, 44.954679999999996, 29.17197, 17.91674, 16.25515, 14.65559, 17.260479999999998, 31.22245, 46.717040000000004], [5.0, 6.628881, 10.41339, 24.81939, 26.08952, 30.1605, 52.30802, 64.71007, 76.30823000000001, 84.63686, 99.4324, 62.521319999999996, 46.81647, 55.766059999999996, 82.4099, 140.2647, 81.26501, 56.45756, 30.421640000000004, 17.28782, 8.302431, 2.981626, 2.6985360000000003, 5.886086, 5.268358], [6.0, 21.83975, 6.63927, 18.97085, 32.89204, 43.15014, 62.86014, 104.6657, 130.2294, 114.8494, 106.9873, 61.896469999999994, 55.556819999999995, 86.80986, 89.27802, 122.4221, 123.9698, 109.0952, 98.41956, 77.61374, 32.49031, 14.67344, 7.370775, 0.03711011, 0.6423392], [7.0, 53.343030000000006, 26.79797, 6.63927, 10.88787, 17.2044, 56.18116, 79.70141, 90.8453, 98.27675, 80.87243000000001, 74.7931, 75.54661, 73.4373, 74.11694, 68.1749, 46.240759999999995, 39.93857, 31.21653, 36.88335, 40.02525, 117.4297, 12.70328, 1.729771, 0.0], [8.0, 25.66785, 63.05716999999999, 22.1414, 17.074, 41.74483, 60.27226999999999, 81.42432, 114.444, 102.3234, 101.7878, 111.031, 119.2309, 114.0777, 110.5296, 59.19355, 42.47175, 14.635979999999998, 6.9440740000000005, 6.944075, 27.74936, 0.0, 0.0, 0.09449376, 0.07732264], [9.0, 12.827, 69.20554, 46.76293, 13.96517, 33.887440000000005, 61.826130000000006, 84.74799, 121.12200000000001, 145.2741, 153.1797, 204.78599999999997, 227.9242, 236.3038, 228.3655, 79.34425, 25.934829999999998, 6.9440740000000005, 6.9440740000000005, 6.944075, 7.553681, 0.0, 0.0, 0.0, 0.0], [10.0, 0.0, 68.66396, 59.0435, 33.357620000000004, 47.45282, 57.8355, 78.91689000000001, 107.8275, 168.0053, 130.9597, 212.5541, 165.8122, 210.2429, 181.1713, 189.7617, 137.3378, 84.65395, 8.677168, 6.956575999999999, 8.468093, 0.0, 0.0, 0.0, 0.0], [11.0, 0.0, 95.17499000000001, 80.03818000000001, 59.898619999999994, 39.584759999999996, 50.28058, 63.81641, 80.61301999999999, 66.37824, 198.7651, 244.3467, 294.2474, 264.3517, 176.4082, 60.21856999999999, 77.41475, 53.16981, 56.16393000000001, 6.949235000000001, 7.531059, 3.7801769999999997, 0.0, 0.0, 0.0], [12.0, 0.0, 134.9879, 130.3696, 96.86325, 75.70494000000001, 58.86466, 57.20374, 55.18836999999999, 78.128, 108.5582, 154.3774, 319.1686, 372.8826, 275.4655, 130.2632, 54.938219999999994, 25.49719, 8.047439, 8.084392999999999, 5.115252, 5.678269, 0.0, 0.0, 0.0], [13.0, 0.0, 48.08919, 142.5558, 140.3777, 154.7261, 87.9361, 58.11091999999999, 52.83869, 67.14822, 83.66798, 118.9242, 150.0681, 272.9709, 341.1366, 238.66400000000002, 190.2, 116.8943, 91.48671999999999, 14.0157, 42.292770000000004, 5.115252, 0.0, 0.0, 0.0], [14.0, 0.0, 54.1941, 146.3839, 99.48143, 96.19411, 102.9473, 76.14089, 57.7844, 47.0402, 64.36799, 84.23767, 162.7181, 121.3275, 213.1646, 328.48199999999997, 285.4489, 283.8319, 212.815, 164.549, 92.29630999999999, 7.244014999999999, 1.167, 0.0, 0.0], [15.0, 0.0, 6.919658999999999, 195.1709, 132.5253, 135.2341, 89.85069, 89.45549, 60.29966999999999, 50.33806, 39.17583, 59.068540000000006, 74.52159, 84.93401999999999, 187.1219, 123.9673, 103.7027, 128.986, 165.1283, 249.7054, 95.39966, 10.002839999999999, 2.39255, 0.0, 0.0], [16.0, 0.0, 21.73871, 123.1339, 176.7414, 158.2698, 137.235, 105.3089, 86.63255, 53.11591, 29.03865, 30.40539, 39.04902, 49.23405, 63.27853, 111.4215, 101.1956, 40.00962, 59.84565, 74.51253, 17.06316, 2.435141, 2.287471, -0.0003636982, 0.0], [17.0, 0.0, 0.0, 62.04671999999999, 136.3122, 201.7952, 168.1343, 95.2046, 58.906240000000004, 46.940909999999995, 49.27053, 37.10416, 17.970110000000002, 30.936970000000002, 33.39257, 44.030770000000004, 55.645419999999994, 78.22423, 14.42782, 9.954997, 7.768213, 13.0254, 21.73166, 2.156372, 0.5317867], [18.0, 0.0, 0.0, 79.62993, 139.6978, 173.167, 192.8718, 196.3499, 144.6611, 106.5424, 57.16653, 41.16107, 32.12764, 13.8566, 10.91772, 12.071769999999999, 22.38254, 24.72105, 6.803666000000001, 4.2008410000000005, 16.46857, 15.70744, 33.96221, 7.575688, -0.04880907], [19.0, 0.0, 0.0, 33.2664, 57.53643, 167.2241, 196.4833, 194.7966, 182.1884, 119.6961, 73.02113, 48.36549, 33.746520000000004, 26.2379, 16.3578, 6.811292999999999, 6.63927, 6.639271000000001, 8.468093, 6.194273, 3.5912330000000003, 3.81486, 8.600739, 5.21889, 0.0], [20.0, 0.0, 0.0, 29.77937, 54.97282, 144.7995, 207.4904, 165.3432, 171.4047, 174.9216, 100.2733, 61.46441, 50.19171, 26.08209, 17.18218, 8.468093, 6.63927, 6.334467, 6.334467, 5.6666870000000005, 4.272203, 0.0, 0.0, 0.0, 0.0], [21.0, 0.0, 0.0, 31.409000000000002, 132.7418, 185.5796, 121.8299, 185.3841, 160.6566, 116.1478, 118.1078, 141.7946, 65.56351, 48.84066, 23.13864, 18.12932, 10.28531, 6.029662999999999, 6.044626999999999, 5.694764, 3.7390849999999998, 3.896037, 0.0, 0.0, 0.0], [22.0, 0.0, 0.0, 19.58994, 42.30355, 96.26777, 187.1207, 179.6626, 221.3898, 154.2617, 142.1604, 148.5737, 67.17936999999999, 40.69044, 39.74512, 26.10166, 14.484689999999999, 8.65873, 3.896037, 3.571392, 3.896037, 3.896037, 3.896037, 1.077756, 0.0], [23.0, 0.001229679, 3.008948, 5.909858, 33.50574, 104.3341, 152.2165, 198.1988, 191.84099999999998, 228.7349, 168.1041, 144.2759, 110.7436, 57.65214, 42.635040000000004, 27.918909999999997, 15.410520000000002, 8.056102000000001, 3.9028300000000002, 3.879774, 3.936718, 3.9686339999999998, 0.1236256, 3.985531, -0.1835741], [24.0, 0.0, 5.6261410000000005, 7.6762559999999995, 63.162259999999996, 45.99762, 79.56688, 227.31099999999998, 203.9287, 172.5618, 177.1462, 140.4554, 123.9905, 110.346, 65.12319000000001, 34.318870000000004, 24.5278, 9.561069, 3.3349910000000005, 5.590495, 5.487353, 5.909498999999999, 5.868994, 5.833817, 3.5681769999999995]]}],\n",
              "                        {\"height\": 400, \"margin\": {\"b\": 20, \"l\": 20, \"r\": 0, \"t\": 40}, \"scene\": {\"camera\": {\"center\": {\"x\": 0, \"y\": 0, \"z\": 0}, \"eye\": {\"x\": 1.25, \"y\": 1.25, \"z\": 1.25}, \"up\": {\"x\": 0, \"y\": 0, \"z\": 1}}}, \"template\": {\"data\": {\"bar\": [{\"error_x\": {\"color\": \"#2a3f5f\"}, \"error_y\": {\"color\": \"#2a3f5f\"}, \"marker\": {\"line\": {\"color\": \"#E5ECF6\", \"width\": 0.5}}, \"type\": \"bar\"}], \"barpolar\": [{\"marker\": {\"line\": {\"color\": \"#E5ECF6\", \"width\": 0.5}}, \"type\": \"barpolar\"}], \"carpet\": [{\"aaxis\": {\"endlinecolor\": \"#2a3f5f\", \"gridcolor\": \"white\", \"linecolor\": \"white\", \"minorgridcolor\": \"white\", \"startlinecolor\": \"#2a3f5f\"}, \"baxis\": {\"endlinecolor\": \"#2a3f5f\", \"gridcolor\": \"white\", \"linecolor\": \"white\", \"minorgridcolor\": \"white\", \"startlinecolor\": \"#2a3f5f\"}, \"type\": \"carpet\"}], \"choropleth\": [{\"colorbar\": {\"outlinewidth\": 0, \"ticks\": \"\"}, \"type\": \"choropleth\"}], \"contour\": [{\"colorbar\": {\"outlinewidth\": 0, \"ticks\": \"\"}, \"colorscale\": [[0.0, \"#0d0887\"], [0.1111111111111111, \"#46039f\"], [0.2222222222222222, \"#7201a8\"], [0.3333333333333333, \"#9c179e\"], [0.4444444444444444, \"#bd3786\"], [0.5555555555555556, \"#d8576b\"], [0.6666666666666666, \"#ed7953\"], [0.7777777777777778, \"#fb9f3a\"], [0.8888888888888888, \"#fdca26\"], [1.0, \"#f0f921\"]], \"type\": \"contour\"}], \"contourcarpet\": [{\"colorbar\": {\"outlinewidth\": 0, \"ticks\": \"\"}, \"type\": \"contourcarpet\"}], \"heatmap\": [{\"colorbar\": {\"outlinewidth\": 0, \"ticks\": \"\"}, \"colorscale\": [[0.0, \"#0d0887\"], [0.1111111111111111, \"#46039f\"], [0.2222222222222222, \"#7201a8\"], [0.3333333333333333, \"#9c179e\"], [0.4444444444444444, \"#bd3786\"], [0.5555555555555556, \"#d8576b\"], [0.6666666666666666, \"#ed7953\"], [0.7777777777777778, \"#fb9f3a\"], [0.8888888888888888, \"#fdca26\"], [1.0, \"#f0f921\"]], \"type\": \"heatmap\"}], \"heatmapgl\": [{\"colorbar\": {\"outlinewidth\": 0, \"ticks\": \"\"}, \"colorscale\": [[0.0, \"#0d0887\"], [0.1111111111111111, \"#46039f\"], [0.2222222222222222, \"#7201a8\"], [0.3333333333333333, \"#9c179e\"], [0.4444444444444444, \"#bd3786\"], [0.5555555555555556, \"#d8576b\"], [0.6666666666666666, \"#ed7953\"], [0.7777777777777778, \"#fb9f3a\"], [0.8888888888888888, \"#fdca26\"], [1.0, \"#f0f921\"]], \"type\": \"heatmapgl\"}], \"histogram\": [{\"marker\": {\"colorbar\": {\"outlinewidth\": 0, \"ticks\": \"\"}}, \"type\": \"histogram\"}], \"histogram2d\": [{\"colorbar\": {\"outlinewidth\": 0, \"ticks\": \"\"}, \"colorscale\": [[0.0, \"#0d0887\"], [0.1111111111111111, \"#46039f\"], [0.2222222222222222, \"#7201a8\"], [0.3333333333333333, \"#9c179e\"], [0.4444444444444444, \"#bd3786\"], [0.5555555555555556, \"#d8576b\"], [0.6666666666666666, \"#ed7953\"], [0.7777777777777778, \"#fb9f3a\"], [0.8888888888888888, \"#fdca26\"], [1.0, \"#f0f921\"]], \"type\": \"histogram2d\"}], \"histogram2dcontour\": [{\"colorbar\": {\"outlinewidth\": 0, \"ticks\": \"\"}, \"colorscale\": [[0.0, \"#0d0887\"], [0.1111111111111111, \"#46039f\"], [0.2222222222222222, \"#7201a8\"], [0.3333333333333333, \"#9c179e\"], [0.4444444444444444, \"#bd3786\"], [0.5555555555555556, \"#d8576b\"], [0.6666666666666666, \"#ed7953\"], [0.7777777777777778, \"#fb9f3a\"], [0.8888888888888888, \"#fdca26\"], [1.0, \"#f0f921\"]], \"type\": \"histogram2dcontour\"}], \"mesh3d\": [{\"colorbar\": {\"outlinewidth\": 0, \"ticks\": \"\"}, \"type\": \"mesh3d\"}], \"parcoords\": [{\"line\": {\"colorbar\": {\"outlinewidth\": 0, \"ticks\": \"\"}}, \"type\": \"parcoords\"}], \"pie\": [{\"automargin\": true, \"type\": \"pie\"}], \"scatter\": [{\"marker\": {\"colorbar\": {\"outlinewidth\": 0, \"ticks\": \"\"}}, \"type\": \"scatter\"}], \"scatter3d\": [{\"line\": {\"colorbar\": {\"outlinewidth\": 0, \"ticks\": \"\"}}, \"marker\": {\"colorbar\": {\"outlinewidth\": 0, \"ticks\": \"\"}}, \"type\": \"scatter3d\"}], \"scattercarpet\": [{\"marker\": {\"colorbar\": {\"outlinewidth\": 0, \"ticks\": \"\"}}, \"type\": \"scattercarpet\"}], \"scattergeo\": [{\"marker\": {\"colorbar\": {\"outlinewidth\": 0, \"ticks\": \"\"}}, \"type\": \"scattergeo\"}], \"scattergl\": [{\"marker\": {\"colorbar\": {\"outlinewidth\": 0, \"ticks\": \"\"}}, \"type\": \"scattergl\"}], \"scattermapbox\": [{\"marker\": {\"colorbar\": {\"outlinewidth\": 0, \"ticks\": \"\"}}, \"type\": \"scattermapbox\"}], \"scatterpolar\": [{\"marker\": {\"colorbar\": {\"outlinewidth\": 0, \"ticks\": \"\"}}, \"type\": \"scatterpolar\"}], \"scatterpolargl\": [{\"marker\": {\"colorbar\": {\"outlinewidth\": 0, \"ticks\": \"\"}}, \"type\": \"scatterpolargl\"}], \"scatterternary\": [{\"marker\": {\"colorbar\": {\"outlinewidth\": 0, \"ticks\": \"\"}}, \"type\": \"scatterternary\"}], \"surface\": [{\"colorbar\": {\"outlinewidth\": 0, \"ticks\": \"\"}, \"colorscale\": [[0.0, \"#0d0887\"], [0.1111111111111111, \"#46039f\"], [0.2222222222222222, \"#7201a8\"], [0.3333333333333333, \"#9c179e\"], [0.4444444444444444, \"#bd3786\"], [0.5555555555555556, \"#d8576b\"], [0.6666666666666666, \"#ed7953\"], [0.7777777777777778, \"#fb9f3a\"], [0.8888888888888888, \"#fdca26\"], [1.0, \"#f0f921\"]], \"type\": \"surface\"}], \"table\": [{\"cells\": {\"fill\": {\"color\": \"#EBF0F8\"}, \"line\": {\"color\": \"white\"}}, \"header\": {\"fill\": {\"color\": \"#C8D4E3\"}, \"line\": {\"color\": \"white\"}}, \"type\": \"table\"}]}, \"layout\": {\"annotationdefaults\": {\"arrowcolor\": \"#2a3f5f\", \"arrowhead\": 0, \"arrowwidth\": 1}, \"coloraxis\": {\"colorbar\": {\"outlinewidth\": 0, \"ticks\": \"\"}}, \"colorscale\": {\"diverging\": [[0, \"#8e0152\"], [0.1, \"#c51b7d\"], [0.2, \"#de77ae\"], [0.3, \"#f1b6da\"], [0.4, \"#fde0ef\"], [0.5, \"#f7f7f7\"], [0.6, \"#e6f5d0\"], [0.7, \"#b8e186\"], [0.8, \"#7fbc41\"], [0.9, \"#4d9221\"], [1, \"#276419\"]], \"sequential\": [[0.0, \"#0d0887\"], [0.1111111111111111, \"#46039f\"], [0.2222222222222222, \"#7201a8\"], [0.3333333333333333, \"#9c179e\"], [0.4444444444444444, \"#bd3786\"], [0.5555555555555556, \"#d8576b\"], [0.6666666666666666, \"#ed7953\"], [0.7777777777777778, \"#fb9f3a\"], [0.8888888888888888, \"#fdca26\"], [1.0, \"#f0f921\"]], \"sequentialminus\": [[0.0, \"#0d0887\"], [0.1111111111111111, \"#46039f\"], [0.2222222222222222, \"#7201a8\"], [0.3333333333333333, \"#9c179e\"], [0.4444444444444444, \"#bd3786\"], [0.5555555555555556, \"#d8576b\"], [0.6666666666666666, \"#ed7953\"], [0.7777777777777778, \"#fb9f3a\"], [0.8888888888888888, \"#fdca26\"], [1.0, \"#f0f921\"]]}, \"colorway\": [\"#636efa\", \"#EF553B\", \"#00cc96\", \"#ab63fa\", \"#FFA15A\", \"#19d3f3\", \"#FF6692\", \"#B6E880\", \"#FF97FF\", \"#FECB52\"], \"font\": {\"color\": \"#2a3f5f\"}, \"geo\": {\"bgcolor\": \"white\", \"lakecolor\": \"white\", \"landcolor\": \"#E5ECF6\", \"showlakes\": true, \"showland\": true, \"subunitcolor\": \"white\"}, \"hoverlabel\": {\"align\": \"left\"}, \"hovermode\": \"closest\", \"mapbox\": {\"style\": \"light\"}, \"paper_bgcolor\": \"white\", \"plot_bgcolor\": \"#E5ECF6\", \"polar\": {\"angularaxis\": {\"gridcolor\": \"white\", \"linecolor\": \"white\", \"ticks\": \"\"}, \"bgcolor\": \"#E5ECF6\", \"radialaxis\": {\"gridcolor\": \"white\", \"linecolor\": \"white\", \"ticks\": \"\"}}, \"scene\": {\"xaxis\": {\"backgroundcolor\": \"#E5ECF6\", \"gridcolor\": \"white\", \"gridwidth\": 2, \"linecolor\": \"white\", \"showbackground\": true, \"ticks\": \"\", \"zerolinecolor\": \"white\"}, \"yaxis\": {\"backgroundcolor\": \"#E5ECF6\", \"gridcolor\": \"white\", \"gridwidth\": 2, \"linecolor\": \"white\", \"showbackground\": true, \"ticks\": \"\", \"zerolinecolor\": \"white\"}, \"zaxis\": {\"backgroundcolor\": \"#E5ECF6\", \"gridcolor\": \"white\", \"gridwidth\": 2, \"linecolor\": \"white\", \"showbackground\": true, \"ticks\": \"\", \"zerolinecolor\": \"white\"}}, \"shapedefaults\": {\"line\": {\"color\": \"#2a3f5f\"}}, \"ternary\": {\"aaxis\": {\"gridcolor\": \"white\", \"linecolor\": \"white\", \"ticks\": \"\"}, \"baxis\": {\"gridcolor\": \"white\", \"linecolor\": \"white\", \"ticks\": \"\"}, \"bgcolor\": \"#E5ECF6\", \"caxis\": {\"gridcolor\": \"white\", \"linecolor\": \"white\", \"ticks\": \"\"}}, \"title\": {\"x\": 0.05}, \"xaxis\": {\"automargin\": true, \"gridcolor\": \"white\", \"linecolor\": \"white\", \"ticks\": \"\", \"title\": {\"standoff\": 15}, \"zerolinecolor\": \"white\", \"zerolinewidth\": 2}, \"yaxis\": {\"automargin\": true, \"gridcolor\": \"white\", \"linecolor\": \"white\", \"ticks\": \"\", \"title\": {\"standoff\": 15}, \"zerolinecolor\": \"white\", \"zerolinewidth\": 2}}}, \"title\": {\"text\": \"default\"}, \"width\": 400},\n",
              "                        {\"responsive\": true}\n",
              "                    ).then(function(){\n",
              "                            \n",
              "var gd = document.getElementById('b347232f-6e33-4490-8143-aef3ba8cd8e2');\n",
              "var x = new MutationObserver(function (mutations, observer) {{\n",
              "        var display = window.getComputedStyle(gd).display;\n",
              "        if (!display || display === 'none') {{\n",
              "            console.log([gd, 'removed!']);\n",
              "            Plotly.purge(gd);\n",
              "            observer.disconnect();\n",
              "        }}\n",
              "}});\n",
              "\n",
              "// Listen for the removal of the full notebook cells\n",
              "var notebookContainer = gd.closest('#notebook-container');\n",
              "if (notebookContainer) {{\n",
              "    x.observe(notebookContainer, {childList: true});\n",
              "}}\n",
              "\n",
              "// Listen for the clearing of the current output cell\n",
              "var outputEl = gd.closest('.output');\n",
              "if (outputEl) {{\n",
              "    x.observe(outputEl, {childList: true});\n",
              "}}\n",
              "\n",
              "                        })\n",
              "                };\n",
              "                \n",
              "            </script>\n",
              "        </div>\n",
              "</body>\n",
              "</html>"
            ]
          },
          "metadata": {
            "tags": []
          }
        }
      ]
    },
    {
      "cell_type": "markdown",
      "metadata": {
        "id": "IHwDCRobNRFC"
      },
      "source": [
        "Move the plot around to see how it's interactive. Check out many more of the solutions on the plotly demo site\n",
        "\n",
        "## Exercise: \n",
        "\n",
        "* Take the scatterplot from the scottish hills before, but now, visualize the height of the point you are clicking on dynamically. You can use the template from https://plotly.com/python/click-events/"
      ]
    },
    {
      "cell_type": "code",
      "metadata": {
        "id": "x11LB83QNxDo"
      },
      "source": [
        ""
      ],
      "execution_count": null,
      "outputs": []
    }
  ]
}